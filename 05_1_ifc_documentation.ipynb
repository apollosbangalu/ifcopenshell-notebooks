{
 "cells": [
  {
   "cell_type": "markdown",
   "metadata": {},
   "source": [
    "## Displaying IFC documentation right in your notebook\n",
    "The helper class `utils.IfcHelp` allows you to quickly pull the official IFC docs intor your browser. Both versions 2x3 and  4 are supported through their respective `IfcHelp3(Enitity)` and `IfcHelp4(Enitity)` calls."
   ]
  },
  {
   "cell_type": "code",
   "execution_count": null,
   "metadata": {},
   "outputs": [],
   "source": [
    "import utils.IfcHelp as IfcHelp\n",
    "\n",
    "IfcHelp.getHelp4(\"ifcdoor\")"
   ]
  },
  {
   "cell_type": "code",
   "execution_count": null,
   "metadata": {},
   "outputs": [],
   "source": [
    "import ifcopenshell"
   ]
  },
  {
   "cell_type": "code",
   "execution_count": null,
   "metadata": {},
   "outputs": [],
   "source": [
    "m = ifcopenshell.open(\"data/Duplex_A.ifc\")\n",
    "#m = ifcopenshell.open(\"../data/231110AC-11-Smiley-West-04-07-2007.ifc\")"
   ]
  },
  {
   "cell_type": "code",
   "execution_count": null,
   "metadata": {},
   "outputs": [],
   "source": [
    "rooms = m.by_type(\"IfcSpace\")"
   ]
  },
  {
   "cell_type": "code",
   "execution_count": null,
   "metadata": {},
   "outputs": [],
   "source": [
    "len(rooms)"
   ]
  },
  {
   "cell_type": "code",
   "execution_count": null,
   "metadata": {},
   "outputs": [],
   "source": [
    "r = rooms[2]"
   ]
  },
  {
   "cell_type": "code",
   "execution_count": null,
   "metadata": {},
   "outputs": [],
   "source": [
    "r"
   ]
  },
  {
   "cell_type": "code",
   "execution_count": null,
   "metadata": {},
   "outputs": [],
   "source": [
    "m.get_inverse(r)"
   ]
  },
  {
   "cell_type": "code",
   "execution_count": null,
   "metadata": {},
   "outputs": [],
   "source": [
    "r.IsDefinedBy[1].RelatingPropertyDefinition"
   ]
  },
  {
   "cell_type": "code",
   "execution_count": null,
   "metadata": {},
   "outputs": [],
   "source": [
    "m.traverse(r, max_levels=1)"
   ]
  },
  {
   "cell_type": "markdown",
   "metadata": {},
   "source": [
    "## Visualizing the model graph"
   ]
  },
  {
   "cell_type": "code",
   "execution_count": null,
   "metadata": {},
   "outputs": [],
   "source": [
    "r.get_info()"
   ]
  },
  {
   "cell_type": "code",
   "execution_count": null,
   "metadata": {},
   "outputs": [],
   "source": [
    "from utils import IfcGraphViz\n",
    "\n",
    "#graph = IfcGraphViz.IfcGraphViz().plot_graph(m, r)\n",
    "\n",
    "# instantiate a class instance if IfcGraphViz\n",
    "visualizer = IfcGraphViz.IfcGraphViz()\n",
    "\n",
    "# construct networkX graph\n",
    "nx_graph = visualizer.build_nx_graph(model=m, entity_instance=r, forward=10)\n",
    "print(nx_graph.nodes)\n",
    "print(nx_graph.edges)\n",
    "\n",
    "# plot\n",
    "graph = visualizer.plot_graph(m, r, forward=10)\n",
    "\n",
    "# show graph in notebook\n",
    "graph"
   ]
  },
  {
   "cell_type": "code",
   "execution_count": null,
   "metadata": {},
   "outputs": [],
   "source": [
    "history = m.by_id(33)\n",
    "history.get_info()"
   ]
  },
  {
   "cell_type": "code",
   "execution_count": null,
   "metadata": {},
   "outputs": [],
   "source": [
    "IfcHelp.getHelp4(\"IfcPersonAndOrganization\")"
   ]
  },
  {
   "cell_type": "markdown",
   "metadata": {},
   "source": [
    "# Plot inverse relations"
   ]
  },
  {
   "cell_type": "code",
   "execution_count": null,
   "metadata": {},
   "outputs": [],
   "source": [
    "#graph = IfcGraphViz.IfcGraphViz().plot_graph(m, r)\n",
    "print(m.by_type(\"IfcWall\")[0])\n",
    "graph = IfcGraphViz.IfcGraphViz().plot_reverse_graph(m, m.by_type(\"IfcWall\")[0])\n",
    "graph"
   ]
  },
  {
   "cell_type": "code",
   "execution_count": null,
   "metadata": {},
   "outputs": [],
   "source": [
    "import ifcopenshell.util.element"
   ]
  },
  {
   "cell_type": "code",
   "execution_count": null,
   "metadata": {},
   "outputs": [],
   "source": [
    "ifcopenshell.util.element.get_psets(r)"
   ]
  },
  {
   "cell_type": "code",
   "execution_count": null,
   "metadata": {},
   "outputs": [],
   "source": [
    "walls = m.by_type(\"IfcWall\")"
   ]
  },
  {
   "cell_type": "markdown",
   "metadata": {},
   "source": [
    "Count the number of walls in the entire building: `len` gets the size of collection datatypes in python [Documentation here](https://docs.python.org/3.8/library/functions.html#len)"
   ]
  },
  {
   "cell_type": "code",
   "execution_count": null,
   "metadata": {},
   "outputs": [],
   "source": [
    "len(walls)"
   ]
  },
  {
   "cell_type": "code",
   "execution_count": null,
   "metadata": {},
   "outputs": [],
   "source": [
    "wall = walls[12]\n",
    "wall"
   ]
  },
  {
   "cell_type": "code",
   "execution_count": null,
   "metadata": {},
   "outputs": [],
   "source": [
    "wall\n",
    "pset_for_wall = ifcopenshell.util.element.get_psets(wall)\n",
    "pset_for_wall"
   ]
  },
  {
   "cell_type": "markdown",
   "metadata": {},
   "source": [
    "## Find external walls.\n",
    "External walls in IFC-models should be have a value `True` for the property  **IsExternal**  in the standard \"Pset_WallCommon\". \n",
    "\n",
    "All external walls can be found by iterating over **all walls** and checking each one for the approriate value.\n",
    "\n",
    "Since **IsExternal** return strings \"True\" or \"False\" we can cast them to pyton  `bool`."
   ]
  },
  {
   "cell_type": "code",
   "execution_count": null,
   "metadata": {},
   "outputs": [],
   "source": []
  },
  {
   "cell_type": "code",
   "execution_count": null,
   "metadata": {},
   "outputs": [],
   "source": [
    "ext_walls = []\n",
    "for w in walls:\n",
    "    psets = ifcopenshell.util.element.get_psets(w)\n",
    "    if psets.get(\"Pset_WallCommon\"):\n",
    "        if bool(psets.get(\"Pset_WallCommon\").get(\"IsExternal\")):\n",
    "            ext_walls.append(w)\n",
    "\n",
    "len(ext_walls)"
   ]
  },
  {
   "cell_type": "code",
   "execution_count": null,
   "metadata": {},
   "outputs": [],
   "source": [
    "from utils.JupyterIFCRenderer import JupyterIFCRenderer\n",
    "\n",
    "viewer = JupyterIFCRenderer(m, size=(400, 300))\n",
    "viewer"
   ]
  },
  {
   "cell_type": "code",
   "execution_count": null,
   "metadata": {},
   "outputs": [],
   "source": [
    "viewer.setAllTransparent()"
   ]
  },
  {
   "cell_type": "code",
   "execution_count": null,
   "metadata": {},
   "outputs": [],
   "source": [
    "for wall in ext_walls:\n",
    "    viewer.setTransparentFalse(wall)\n"
   ]
  },
  {
   "cell_type": "code",
   "execution_count": null,
   "metadata": {},
   "outputs": [],
   "source": [
    "wall = ext_wall[10]\n",
    "wall"
   ]
  },
  {
   "cell_type": "code",
   "execution_count": null,
   "metadata": {},
   "outputs": [],
   "source": [
    "m.get_inverse(wand)"
   ]
  },
  {
   "cell_type": "code",
   "execution_count": null,
   "metadata": {},
   "outputs": [],
   "source": [
    "graph = IfcGraphViz.IfcGraphViz().plot_graph(m, m.by_id(15152), forward=10)\n",
    "graph"
   ]
  },
  {
   "cell_type": "code",
   "execution_count": null,
   "metadata": {},
   "outputs": [],
   "source": [
    "schichten = m.by_id(11894)\n",
    "schichten"
   ]
  },
  {
   "cell_type": "code",
   "execution_count": null,
   "metadata": {},
   "outputs": [],
   "source": [
    "m.by_id(11877)"
   ]
  },
  {
   "cell_type": "code",
   "execution_count": null,
   "metadata": {},
   "outputs": [],
   "source": [
    "IfcHelp.getHelp3(\"IfcRelAssociatesMaterial\")"
   ]
  },
  {
   "cell_type": "code",
   "execution_count": null,
   "metadata": {},
   "outputs": [],
   "source": [
    "ifcopenshell.util.element.get_psets(wand)"
   ]
  },
  {
   "cell_type": "code",
   "execution_count": null,
   "metadata": {},
   "outputs": [],
   "source": [
    "for inv in m.get_inverse(wand):\n",
    "    if inv.is_a() == \"IfcRelAssociatesMaterial\":\n",
    "        print(inv)\n",
    "        mat_assoc = inv"
   ]
  },
  {
   "cell_type": "code",
   "execution_count": null,
   "metadata": {},
   "outputs": [],
   "source": [
    "IfcHelp.getHelp3(\"IfcRelAssociatesMaterial\")"
   ]
  },
  {
   "cell_type": "code",
   "execution_count": null,
   "metadata": {},
   "outputs": [],
   "source": [
    "mat_assoc.RelatingMaterial.ForLayerSet.MaterialLayers[0].Material"
   ]
  },
  {
   "cell_type": "code",
   "execution_count": null,
   "metadata": {},
   "outputs": [],
   "source": [
    "gesamtvolumen = 0\n",
    "for w in ausssenwaende:\n",
    "    psets = ifcopenshell.util.element.get_psets(w)\n",
    "    for psetname, pset_dict in psets.items():\n",
    "        for name, value in pset_dict.items():\n",
    "            # print (f\"{name}: {value}\")\n",
    "            if name == \"NetVolume\":\n",
    "                gesamtvolumen += float(value)\n",
    "print (f\"Gesamtvolumen: {gesamtvolumen}\")               "
   ]
  }
 ],
 "metadata": {
  "kernelspec": {
   "display_name": "Python 3",
   "language": "python",
   "name": "python3"
  },
  "language_info": {
   "codemirror_mode": {
    "name": "ipython",
    "version": 3
   },
   "file_extension": ".py",
   "mimetype": "text/x-python",
   "name": "python",
   "nbconvert_exporter": "python",
   "pygments_lexer": "ipython3",
   "version": "3.7.8"
  }
 },
 "nbformat": 4,
 "nbformat_minor": 4
}
